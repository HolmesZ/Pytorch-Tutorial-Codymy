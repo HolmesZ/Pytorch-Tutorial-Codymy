{
  "nbformat": 4,
  "nbformat_minor": 0,
  "metadata": {
    "colab": {
      "provenance": [],
      "authorship_tag": "ABX9TyMhp+aiQoBktBpPTUs3G3ri",
      "include_colab_link": true
    },
    "kernelspec": {
      "name": "python3",
      "display_name": "Python 3"
    },
    "language_info": {
      "name": "python"
    }
  },
  "cells": [
    {
      "cell_type": "markdown",
      "metadata": {
        "id": "view-in-github",
        "colab_type": "text"
      },
      "source": [
        "<a href=\"https://colab.research.google.com/github/HolmesZ/Pytorch-Tutorial-Codymy/blob/main/05_Simple_NeuralNetwork.ipynb\" target=\"_parent\"><img src=\"https://colab.research.google.com/assets/colab-badge.svg\" alt=\"Open In Colab\"/></a>"
      ]
    },
    {
      "cell_type": "markdown",
      "source": [
        "# Create a simple neural network to classify iris flowers\n",
        "\n",
        "<img\n",
        "    style=\"display: block;\n",
        "           margin-left: auto;\n",
        "           margin-right: auto;\n",
        "           width: 30%;\"\n",
        "    src=\"https://upload.wikimedia.org/wikipedia/commons/thumb/4/46/Colored_neural_network.svg/800px-Colored_neural_network.svg.png\"\n",
        "    alt=\"A Simple Artificial Neural Network\" width=\"200\">\n",
        "</img>"
      ],
      "metadata": {
        "id": "gm4Gxr8LHPox"
      }
    },
    {
      "cell_type": "code",
      "execution_count": null,
      "metadata": {
        "id": "Zvmmldra6jMq"
      },
      "outputs": [],
      "source": [
        "import torch\n",
        "import torch.nn as nn\n",
        "import torch.nn.functional as F"
      ]
    },
    {
      "cell_type": "code",
      "source": [
        "# Create a Model class that inherits nn.Module\n",
        "class Model(nn.Module):\n",
        "  # Input Layer (4 features of the flower) -->\n",
        "  # Hidden Layer 1 (number of neurons) -->\n",
        "  # Hidden Layer 2 (number of neurons) -->\n",
        "  # Output Layer (3 classes of iris flowers)\n",
        "  def __init__(self, in_features=4, h1=8, h2=9,out_features=3):\n",
        "    super().__init__()\n",
        "    self.fc1 = nn.Linear(in_features, h1)\n",
        "    self.fc2 = nn.Linear(h1, h2)\n",
        "    self.out = nn.Linear(h2, out_features)\n",
        "\n",
        "  def forward(self, x):\n",
        "    x = F.relu(self.fc1(x))\n",
        "    x = F.relu(self.fc2(x))\n",
        "    x = self.out(x)\n",
        "\n",
        "    return x\n"
      ],
      "metadata": {
        "id": "ByK8o_QSAT-Y"
      },
      "execution_count": null,
      "outputs": []
    },
    {
      "cell_type": "code",
      "source": [
        "# Pick a manual seed for randomization\n",
        "torch.manual_seed(41)\n",
        "# Create an instance of model\n",
        "model = Model()"
      ],
      "metadata": {
        "id": "JjTd8YxnFi_E"
      },
      "execution_count": null,
      "outputs": []
    },
    {
      "cell_type": "code",
      "source": [],
      "metadata": {
        "id": "0SMPM79AF7vV"
      },
      "execution_count": null,
      "outputs": []
    }
  ]
}