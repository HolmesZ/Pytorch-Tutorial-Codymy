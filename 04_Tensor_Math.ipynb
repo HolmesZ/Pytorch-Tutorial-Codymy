{
  "nbformat": 4,
  "nbformat_minor": 0,
  "metadata": {
    "colab": {
      "provenance": [],
      "authorship_tag": "ABX9TyMtEzXpVXzpSD+YIbvP9Fb6",
      "include_colab_link": true
    },
    "kernelspec": {
      "name": "python3",
      "display_name": "Python 3"
    },
    "language_info": {
      "name": "python"
    }
  },
  "cells": [
    {
      "cell_type": "markdown",
      "metadata": {
        "id": "view-in-github",
        "colab_type": "text"
      },
      "source": [
        "<a href=\"https://colab.research.google.com/github/HolmesZ/Pytorch-Tutorial-Codymy/blob/main/04_Tensor_Math.ipynb\" target=\"_parent\"><img src=\"https://colab.research.google.com/assets/colab-badge.svg\" alt=\"Open In Colab\"/></a>"
      ]
    },
    {
      "cell_type": "markdown",
      "source": [
        "# Tensor Math Operations\n",
        "- Add, Subtract, Multiply, Reminders, Exponents\n",
        "- Shorthand and Longhand\n",
        "- Ressignment"
      ],
      "metadata": {
        "id": "haPcVMM21B2q"
      }
    },
    {
      "cell_type": "code",
      "source": [
        "import torch\n",
        "import numpy as np"
      ],
      "metadata": {
        "id": "iFSCimtF1Omd"
      },
      "execution_count": null,
      "outputs": []
    },
    {
      "cell_type": "code",
      "source": [
        "tensor_a = torch.tensor([1, 2, 3, 4])\n",
        "tensor_b = torch.tensor([5, 6, 7, 8])"
      ],
      "metadata": {
        "id": "3HoA7qCa1SFa"
      },
      "execution_count": null,
      "outputs": []
    },
    {
      "cell_type": "code",
      "source": [
        "# Shorthand\n",
        "print(tensor_a + tensor_b)\n",
        "print(tensor_b - tensor_a)\n",
        "print(tensor_a * tensor_b)\n",
        "print(tensor_b / tensor_a)\n",
        "print(tensor_b % tensor_a)\n",
        "print(tensor_a ** tensor_b)"
      ],
      "metadata": {
        "colab": {
          "base_uri": "https://localhost:8080/"
        },
        "id": "zkZGvJkg2I2w",
        "outputId": "02c574b1-c281-4293-cb83-4f2e66807327"
      },
      "execution_count": null,
      "outputs": [
        {
          "output_type": "stream",
          "name": "stdout",
          "text": [
            "tensor([ 6,  8, 10, 12])\n",
            "tensor([4, 4, 4, 4])\n",
            "tensor([ 5, 12, 21, 32])\n",
            "tensor([5.0000, 3.0000, 2.3333, 2.0000])\n",
            "tensor([0, 0, 1, 0])\n",
            "tensor([    1,    64,  2187, 65536])\n"
          ]
        }
      ]
    },
    {
      "cell_type": "code",
      "source": [
        "# torch Longhand\n",
        "print(torch.add(tensor_a, tensor_b))\n",
        "print(torch.sub(tensor_b, tensor_a))\n",
        "print(torch.mul(tensor_a, tensor_b))\n",
        "print(torch.div(tensor_b, tensor_a))\n",
        "print(torch.remainder(tensor_b, tensor_a))\n",
        "print(torch.pow(tensor_a, tensor_b))"
      ],
      "metadata": {
        "colab": {
          "base_uri": "https://localhost:8080/"
        },
        "id": "uBflGYwp2Mj_",
        "outputId": "c4fa728c-968f-472a-9598-6f2d05f51f97"
      },
      "execution_count": null,
      "outputs": [
        {
          "output_type": "stream",
          "name": "stdout",
          "text": [
            "tensor([ 6,  8, 10, 12])\n",
            "tensor([4, 4, 4, 4])\n",
            "tensor([ 5, 12, 21, 32])\n",
            "tensor([5.0000, 3.0000, 2.3333, 2.0000])\n",
            "tensor([0, 0, 1, 0])\n",
            "tensor([    1,    64,  2187, 65536])\n"
          ]
        }
      ]
    },
    {
      "cell_type": "code",
      "source": [
        "# Longhand\n",
        "tensor_a.add(tensor_b)\n",
        "# Reassinment by add_\n",
        "# tensor_a += tensor_b\n",
        "tensor_a.add_(tensor_b)\n",
        "print(\"tensor_a was reassinment: \", tensor_a)"
      ],
      "metadata": {
        "colab": {
          "base_uri": "https://localhost:8080/"
        },
        "id": "c7hm8UAX2Qmh",
        "outputId": "bbc97fb5-328a-4489-b726-4582be307707"
      },
      "execution_count": null,
      "outputs": [
        {
          "output_type": "stream",
          "name": "stdout",
          "text": [
            "tensor_a was reassinment:  tensor([ 6,  8, 10, 12])\n"
          ]
        }
      ]
    },
    {
      "cell_type": "code",
      "source": [],
      "metadata": {
        "id": "xXW87bjt4vWQ"
      },
      "execution_count": null,
      "outputs": []
    }
  ]
}